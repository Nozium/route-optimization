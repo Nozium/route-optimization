{
 "cells": [
  {
   "cell_type": "code",
   "execution_count": null,
   "metadata": {},
   "outputs": [],
   "source": [
    "# open in colab button\n",
    "COLABROOT = \"https://colab.research.google.com/github/Nozium/route-optimization/blob/master/notebook\"\n",
    "THIS_FILE = \"template_open_in_colab.ipynb\"\n",
    "COLABURL = f\"{COLABROOT}/{THIS_FILE}\"\n",
    "print(COLABURL)"
   ]
  },
  {
   "attachments": {},
   "cell_type": "markdown",
   "metadata": {},
   "source": [
    "replace bottun url to your notebook url  \n",
    "[![Open In Colab](https://colab.research.google.com/assets/colab-badge.svg)](https://colab.research.google.com/github/Nozium/route-optimization/blob/master/notebook/template_open_in_colab.ipynb)"
   ]
  },
  {
   "cell_type": "code",
   "execution_count": null,
   "metadata": {},
   "outputs": [],
   "source": [
    "import os \n",
    "import sys\n",
    "sys.append(os.path.abspath(os.path.join(os.getcwd(), os.pardir)))\n",
    "\n",
    "if os.getcwd().split('/')[-1] == 'notebook':\n",
    "    os.chdir(\"../\")\n",
    "print(os.getcwd())"
   ]
  },
  {
   "cell_type": "code",
   "execution_count": null,
   "metadata": {},
   "outputs": [],
   "source": [
    "!git clone https://github.com/Nozium/route-optimization\n",
    "os.chdir(\"route-optimization\")\n",
    "!pip install -r requirements.txt"
   ]
  },
  {
   "cell_type": "code",
   "execution_count": null,
   "metadata": {},
   "outputs": [],
   "source": [
    "# check torch versions\n",
    "import torch\n",
    "print(torch.__version__)"
   ]
  },
  {
   "cell_type": "code",
   "execution_count": null,
   "metadata": {},
   "outputs": [],
   "source": [
    "## implement your code here"
   ]
  }
 ],
 "metadata": {
  "language_info": {
   "name": "python"
  },
  "orig_nbformat": 4
 },
 "nbformat": 4,
 "nbformat_minor": 2
}
